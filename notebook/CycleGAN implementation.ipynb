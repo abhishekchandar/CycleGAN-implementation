{
 "cells": [
  {
   "cell_type": "code",
   "execution_count": 1,
   "id": "b8d00e51",
   "metadata": {
    "scrolled": false
   },
   "outputs": [
    {
     "name": "stdout",
     "output_type": "stream",
     "text": [
      "Collecting git+https://github.com/tensorflow/examples.git"
     ]
    },
    {
     "name": "stderr",
     "output_type": "stream",
     "text": [
      "  Running command git clone -q https://github.com/tensorflow/examples.git 'C:\\Users\\abhis\\AppData\\Local\\Temp\\pip-req-build-t0oaygq9'\n",
      "WARNING: You are using pip version 21.1.1; however, version 21.1.2 is available.\n",
      "You should consider upgrading via the 'C:\\Users\\abhis\\OneDrive\\Desktop\\CycleGAN\\venv\\Scripts\\python.exe -m pip install --upgrade pip' command.\n"
     ]
    },
    {
     "name": "stdout",
     "output_type": "stream",
     "text": [
      "\n",
      "  Cloning https://github.com/tensorflow/examples.git to c:\\users\\abhis\\appdata\\local\\temp\\pip-req-build-t0oaygq9\n",
      "Requirement already satisfied: absl-py in c:\\users\\abhis\\onedrive\\desktop\\cyclegan\\venv\\lib\\site-packages (from tensorflow-examples===49190180a20bc5fdbcf7a67125b5be32bd2dd784-) (0.12.0)\n",
      "Requirement already satisfied: six in c:\\users\\abhis\\onedrive\\desktop\\cyclegan\\venv\\lib\\site-packages (from tensorflow-examples===49190180a20bc5fdbcf7a67125b5be32bd2dd784-) (1.15.0)\n"
     ]
    }
   ],
   "source": [
    "!pip install git+https://github.com/tensorflow/examples.git\n",
    "# !pip install tensorflow\n",
    "# !pip install matplotlib"
   ]
  },
  {
   "cell_type": "code",
   "execution_count": 2,
   "id": "968024b0",
   "metadata": {},
   "outputs": [],
   "source": [
    "import tensorflow as tf\n",
    "\n",
    "# import tensorflow_datasets as tfds\n",
    "from tensorflow_examples.models.pix2pix import pix2pix\n",
    "\n",
    "import os\n",
    "import time\n",
    "import matplotlib.pyplot as plt\n",
    "from IPython.display import clear_output\n",
    "\n",
    "AUTOTUNE = tf.data.AUTOTUNE"
   ]
  },
  {
   "cell_type": "code",
   "execution_count": 7,
   "id": "a346e731",
   "metadata": {},
   "outputs": [
    {
     "data": {
      "text/plain": [
       "<TFRecordDatasetV2 shapes: (), types: tf.string>"
      ]
     },
     "execution_count": 7,
     "metadata": {},
     "output_type": "execute_result"
    }
   ],
   "source": [
    "# train_size = int(0.7 * DATASET_SIZE)\n",
    "# val_size = int(0.15 * DATASET_SIZE)\n",
    "# test_size = int(0.15 * DATASET_SIZE)\n",
    "\n",
    "full_dataset = tf.data.TFRecordDataset()\n",
    "full_dataset\n",
    "# full_dataset = full_dataset.shuffle(buffer_size)\n",
    "# train_dataset = full_dataset.take(train_size)\n",
    "# test_dataset = full_dataset.skip(train_size)\n",
    "# val_dataset = test_dataset.skip(test_size)\n",
    "# test_dataset = test_dataset.take(test_size)"
   ]
  },
  {
   "cell_type": "code",
   "execution_count": 7,
   "id": "f5970ac8",
   "metadata": {},
   "outputs": [
    {
     "name": "stdout",
     "output_type": "stream",
     "text": [
      "Found 5631 images belonging to 1 classes.\n",
      "Found 1407 images belonging to 1 classes.\n",
      "Found 240 images belonging to 1 classes.\n",
      "Found 60 images belonging to 1 classes.\n"
     ]
    }
   ],
   "source": [
    "directory_photos = './datasets/photo_jpg'\n",
    "directory_paint = './datasets/monet_jpg'\n",
    "\n",
    "image_generator = tf.keras.preprocessing.image.ImageDataGenerator(validation_split=0.2)\n",
    "train_photos = image_generator.flow_from_directory(directory=directory_photos,\n",
    "                                                     subset='training')\n",
    "test_photos = image_generator.flow_from_directory(directory=directory_photos,\n",
    "                                                   subset='validation')\n",
    "\n",
    "train_paint = image_generator.flow_from_directory(directory=directory_paint,\n",
    "                                                     subset='training')\n",
    "test_paint = image_generator.flow_from_directory(directory=directory_paint,\n",
    "                                                   subset='validation')"
   ]
  },
  {
   "cell_type": "code",
   "execution_count": 8,
   "id": "6d302686",
   "metadata": {},
   "outputs": [],
   "source": [
    "BUFFER_SIZE = 1000\n",
    "BATCH_SIZE = 1\n",
    "IMG_WIDTH = 256\n",
    "IMG_HEIGHT = 256"
   ]
  },
  {
   "cell_type": "code",
   "execution_count": 9,
   "id": "f641bc86",
   "metadata": {},
   "outputs": [],
   "source": [
    "def random_crop(image):\n",
    "  cropped_image = tf.image.random_crop(\n",
    "      image, size=[IMG_HEIGHT, IMG_WIDTH, 3])\n",
    "\n",
    "  return cropped_image"
   ]
  },
  {
   "cell_type": "code",
   "execution_count": 10,
   "id": "1788bc7b",
   "metadata": {},
   "outputs": [],
   "source": [
    "# normalizing the images to [-1, 1]\n",
    "def normalize(image):\n",
    "  image = tf.cast(image, tf.float32)\n",
    "  image = (image / 127.5) - 1\n",
    "  return image"
   ]
  },
  {
   "cell_type": "code",
   "execution_count": 11,
   "id": "1d0fc536",
   "metadata": {},
   "outputs": [],
   "source": [
    "def random_jitter(image):\n",
    "  # resizing to 286 x 286 x 3\n",
    "  image = tf.image.resize(image, [286, 286],\n",
    "                          method=tf.image.ResizeMethod.NEAREST_NEIGHBOR)\n",
    "\n",
    "  # randomly cropping to 256 x 256 x 3\n",
    "  image = random_crop(image)\n",
    "\n",
    "  # random mirroring\n",
    "  image = tf.image.random_flip_left_right(image)\n",
    "\n",
    "  return image"
   ]
  },
  {
   "cell_type": "code",
   "execution_count": 12,
   "id": "02b3947e",
   "metadata": {},
   "outputs": [],
   "source": [
    "def preprocess_image_train(image, label):\n",
    "  image = random_jitter(image)\n",
    "  image = normalize(image)\n",
    "  return image"
   ]
  },
  {
   "cell_type": "code",
   "execution_count": 13,
   "id": "fdcb2e63",
   "metadata": {},
   "outputs": [],
   "source": [
    "def preprocess_image_test(image, label):\n",
    "  image = normalize(image)\n",
    "  return image"
   ]
  },
  {
   "cell_type": "code",
   "execution_count": null,
   "id": "8c359f8c",
   "metadata": {},
   "outputs": [],
   "source": []
  }
 ],
 "metadata": {
  "kernelspec": {
   "display_name": "Python 3",
   "language": "python",
   "name": "python3"
  },
  "language_info": {
   "codemirror_mode": {
    "name": "ipython",
    "version": 3
   },
   "file_extension": ".py",
   "mimetype": "text/x-python",
   "name": "python",
   "nbconvert_exporter": "python",
   "pygments_lexer": "ipython3",
   "version": "3.6.7"
  }
 },
 "nbformat": 4,
 "nbformat_minor": 5
}
